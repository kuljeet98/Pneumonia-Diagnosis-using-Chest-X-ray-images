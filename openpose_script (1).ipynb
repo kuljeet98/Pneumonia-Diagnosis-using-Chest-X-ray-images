{
  "nbformat": 4,
  "nbformat_minor": 0,
  "metadata": {
    "colab": {
      "name": "openpose_script.ipynb",
      "provenance": [],
      "collapsed_sections": []
    },
    "kernelspec": {
      "name": "python3",
      "display_name": "Python 3"
    },
    "accelerator": "GPU"
  },
  "cells": [
    {
      "cell_type": "markdown",
      "metadata": {
        "id": "T2VsvtULADjI",
        "colab_type": "text"
      },
      "source": [
        "#### OpenPose Script"
      ]
    },
    {
      "cell_type": "code",
      "metadata": {
        "id": "8VPJ3XmiqDy5",
        "colab_type": "code",
        "colab": {}
      },
      "source": [
        "import os\n",
        "from os.path import exists, join, basename, splitext\n",
        "git_repo_url = 'https://github.com/CMU-Perceptual-Computing-Lab/openpose.git'\n",
        "project_name = splitext(basename(git_repo_url))[0]\n",
        "if not exists(project_name):\n",
        "  !wget -q https://cmake.org/files/v3.13/cmake-3.13.0-Linux-x86_64.tar.gz\n",
        "  !tar xfz cmake-3.13.0-Linux-x86_64.tar.gz --strip-components=1 -C /usr/local\n",
        "  !git clone -q --depth 1 $git_repo_url\n",
        "  !sed -i 's/execute_process(COMMAND git checkout master WORKING_DIRECTORY ${CMAKE_SOURCE_DIR}\\/3rdparty\\/caffe)/execute_process(COMMAND git checkout f019d0dfe86f49d1140961f8c7dec22130c83154 WORKING_DIRECTORY ${CMAKE_SOURCE_DIR}\\/3rdparty\\/caffe)/g' openpose/CMakeLists.txt\n",
        "  # install system dependencies\n",
        "  !apt-get -qq install -y libatlas-base-dev libprotobuf-dev libleveldb-dev libsnappy-dev libhdf5-serial-dev protobuf-compiler libgflags-dev libgoogle-glog-dev liblmdb-dev opencl-headers ocl-icd-opencl-dev libviennacl-dev\n",
        "  # build openpose\n",
        "  !cd openpose && rm -rf build || true && mkdir build && cd build && cmake .. && make -j`nproc`"
      ],
      "execution_count": 0,
      "outputs": []
    },
    {
      "cell_type": "code",
      "metadata": {
        "id": "Q86SGE4MR6FA",
        "colab_type": "code",
        "colab": {}
      },
      "source": [
        "'''to check the fps of video and convert the fps to 15 fps output video'''\n",
        "# !ffmpeg -i 02.mp4\n",
        "# !ffmpeg -i 2.mp4 -filter:v fps=15 video.mp4"
      ],
      "execution_count": 0,
      "outputs": []
    },
    {
      "cell_type": "code",
      "metadata": {
        "id": "AXTo1vYRAOQo",
        "colab_type": "code",
        "colab": {}
      },
      "source": [
        "import os\n",
        "import subprocess"
      ],
      "execution_count": 0,
      "outputs": []
    },
    {
      "cell_type": "code",
      "metadata": {
        "id": "5y38NxtgKOXr",
        "colab_type": "code",
        "colab": {}
      },
      "source": [
        "'''l is the list with names without extensions'''\n",
        "l=[]\n",
        "'''f is list with extension name of videos'''\n",
        "f=[]\n",
        "sourcedir = \"/content/drive/My Drive/PROJECT_DATA/top_5_classes/thursday/\"\n",
        "# destdir = \"/content/drive/My Drive/PROJECT_DATA/OpenPose/saturday\"\n",
        "\n",
        "for file in os.listdir(sourcedir):\n",
        "  f.append(file)\n",
        "for i in f: \n",
        "  l.append(i[:i.rfind(\".\")])"
      ],
      "execution_count": 0,
      "outputs": []
    },
    {
      "cell_type": "code",
      "metadata": {
        "id": "Qsr7njs9cy55",
        "colab_type": "code",
        "colab": {}
      },
      "source": [
        "len(f)"
      ],
      "execution_count": 0,
      "outputs": []
    },
    {
      "cell_type": "code",
      "metadata": {
        "id": "DOwMZc0MLLCl",
        "colab_type": "code",
        "colab": {}
      },
      "source": [
        "! rm *.mp4\n",
        "'''video path from drive to /content'''\n",
        "for i in range(0,len(f)):\n",
        "  subprocess.call([\"ffmpeg\",\"-i\",sourcedir+f[i], f[i]])\n",
        "'''openpose convertion'''\n",
        "for i in f:  \n",
        "  !cd openpose && ./build/examples/openpose/openpose.bin --video ../$i --write_json ./output/ --display 0 --write_video ../$i --disable_blending  --hand \n",
        "  "
      ],
      "execution_count": 0,
      "outputs": []
    },
    {
      "cell_type": "code",
      "metadata": {
        "id": "qmxHMPiTDeaG",
        "colab_type": "code",
        "colab": {}
      },
      "source": [
        "destdir = \"/content/drive/My Drive/PROJECT_DATA/OpenPose/thursday/\"\n",
        "video=[]\n",
        "for file in os.listdir('/content/'):\n",
        "  if file.endswith(\".mp4\"):\n",
        "    video.append(file)\n",
        "'''video path from /content to drive'''\n",
        "import shutil\n",
        "for i in video:\n",
        "  shutil.move(i, destdir+i)\n",
        "print('Done...')"
      ],
      "execution_count": 0,
      "outputs": []
    },
    {
      "cell_type": "code",
      "metadata": {
        "id": "CutuZYvrDizS",
        "colab_type": "code",
        "colab": {}
      },
      "source": [
        "# for video visulaisation\n",
        "def show_local_mp4_video(file_name, width=640, height=480):\n",
        "  import io\n",
        "  import base64\n",
        "  from IPython.display import HTML\n",
        "  video_encoded = base64.b64encode(io.open(file_name, 'rb').read())\n",
        "  return HTML(data='''<video width=\"{0}\" height=\"{1}\" alt=\"test\" controls>\n",
        "                        <source src=\"data:video/mp4;base64,{2}\" type=\"video/mp4\" />\n",
        "                      </video>'''.format(width, height, video_encoded.decode('ascii')))\n",
        "\n",
        "show_local_mp4_video('Internet.mp4', width=960, height=720)"
      ],
      "execution_count": 0,
      "outputs": []
    },
    {
      "cell_type": "code",
      "metadata": {
        "id": "kbd88z-1DFck",
        "colab_type": "code",
        "colab": {}
      },
      "source": [
        "# '''video name change'''\n",
        "# #!/usr/bin/python\n",
        "\n",
        "# import os\n",
        "# import sys\n",
        "# sourcedir='/content/drive/My Drive/PROJECT_DATA/top_5_classes/monday/'\n",
        "# files = os.listdir(sourcedir)\n",
        "# for i in files:\n",
        "#     os.rename(sourcedir+i,sourcedir+i.replace(')', ''))\n"
      ],
      "execution_count": 0,
      "outputs": []
    },
    {
      "cell_type": "code",
      "metadata": {
        "id": "jbSrIRvbFoOg",
        "colab_type": "code",
        "colab": {}
      },
      "source": [
        ""
      ],
      "execution_count": 0,
      "outputs": []
    },
    {
      "cell_type": "code",
      "metadata": {
        "id": "maJCRx1Fo-Va",
        "colab_type": "code",
        "colab": {}
      },
      "source": [
        ""
      ],
      "execution_count": 0,
      "outputs": []
    }
  ]
}