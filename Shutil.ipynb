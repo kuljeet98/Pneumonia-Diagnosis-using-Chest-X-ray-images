{
  "nbformat": 4,
  "nbformat_minor": 0,
  "metadata": {
    "colab": {
      "name": "Shutil.ipynb",
      "provenance": [],
      "collapsed_sections": []
    },
    "kernelspec": {
      "name": "python3",
      "display_name": "Python 3"
    }
  },
  "cells": [
    {
      "cell_type": "markdown",
      "metadata": {
        "id": "Oj0odziFdXFl",
        "colab_type": "text"
      },
      "source": [
        "#### Images Transfer "
      ]
    },
    {
      "cell_type": "code",
      "metadata": {
        "id": "t7BN-sPRURdB",
        "colab_type": "code",
        "outputId": "97779890-a1e1-44d9-fd17-27e0b0fedf0b",
        "colab": {
          "base_uri": "https://localhost:8080/",
          "height": 51
        }
      },
      "source": [
        "# mounting the google drive to access the chest dataset\n",
        "from google.colab import drive\n",
        "drive.mount('/content/gdrive')\n",
        "!ls 'gdrive/My Drive/Chest/'"
      ],
      "execution_count": 0,
      "outputs": [
        {
          "output_type": "stream",
          "text": [
            "Drive already mounted at /content/gdrive; to attempt to forcibly remount, call drive.mount(\"/content/gdrive\", force_remount=True).\n",
            "test  train  val\n"
          ],
          "name": "stdout"
        }
      ]
    },
    {
      "cell_type": "markdown",
      "metadata": {
        "id": "rxyB9VQvdSzK",
        "colab_type": "text"
      },
      "source": [
        "#### From train to test"
      ]
    },
    {
      "cell_type": "code",
      "metadata": {
        "id": "H8w2WvHLUbKn",
        "colab_type": "code",
        "outputId": "608358b2-0255-4c36-9744-75ce324551f7",
        "colab": {
          "base_uri": "https://localhost:8080/",
          "height": 34
        }
      },
      "source": [
        "cd '/content/gdrive/My Drive/Chest/train/NORMAL/'"
      ],
      "execution_count": 0,
      "outputs": [
        {
          "output_type": "stream",
          "text": [
            "/content/gdrive/My Drive/Chest/train/NORMAL\n"
          ],
          "name": "stdout"
        }
      ]
    },
    {
      "cell_type": "code",
      "metadata": {
        "id": "11lUZNpOU2Y1",
        "colab_type": "code",
        "colab": {}
      },
      "source": [
        "list=['NORMAL2-IM-1427-0001.jpeg',\n",
        "'NORMAL2-IM-1430-0001.jpeg',\n",
        "'NORMAL2-IM-1431-0001.jpeg',\n",
        "'NORMAL2-IM-1436-0001.jpeg',\n",
        "'NORMAL2-IM-1437-0001.jpeg',\n",
        "'NORMAL2-IM-1438-0001.jpeg',\n",
        "'NORMAL2-IM-1440-0001.jpeg',\n",
        "'NORMAL2-IM-1442-0001.jpeg']"
      ],
      "execution_count": 0,
      "outputs": []
    },
    {
      "cell_type": "code",
      "metadata": {
        "id": "2rxU395yVUYX",
        "colab_type": "code",
        "outputId": "fea4b6f9-2a7c-42cf-de04-0797625838e2",
        "colab": {
          "base_uri": "https://localhost:8080/",
          "height": 34
        }
      },
      "source": [
        "import shutil\n",
        "for i in list:\n",
        "  shutil.move('gdrive/My Drive/Chest/train/NORMAL/'+i, 'gdrive/My Drive/Chest/test/NORMAL/'+i)\n",
        "  # print('gdrive/My Drive/Chest/train/NORMAL/'+i)\n",
        "print('Done...')"
      ],
      "execution_count": 0,
      "outputs": [
        {
          "output_type": "stream",
          "text": [
            "Done...\n"
          ],
          "name": "stdout"
        }
      ]
    },
    {
      "cell_type": "code",
      "metadata": {
        "id": "MYsR0euVWt_K",
        "colab_type": "code",
        "colab": {}
      },
      "source": [
        "name = ['person1946_bacteria_4874.jpeg',\n",
        "'person1946_bacteria_4875.jpeg',\n",
        "'person1947_bacteria_4876.jpeg',\n",
        "'person1949_bacteria_4880.jpeg',\n",
        "'person1950_bacteria_4881.jpeg',\n",
        "'person1951_bacteria_4882.jpeg',\n",
        "'person1952_bacteria_4883.jpeg',\n",
        "'person1954_bacteria_4886.jpeg']"
      ],
      "execution_count": 0,
      "outputs": []
    },
    {
      "cell_type": "code",
      "metadata": {
        "id": "NnxZxtAmXNhA",
        "colab_type": "code",
        "outputId": "dd8e6620-0c49-41b3-e4b4-d95b0d5e02ea",
        "colab": {
          "base_uri": "https://localhost:8080/",
          "height": 34
        }
      },
      "source": [
        "import shutil\n",
        "for i in name:\n",
        "  shutil.move('gdrive/My Drive/Chest/train/PNEUMONIA/'+i, 'gdrive/My Drive/Chest/test/PNEUMONIA/')\n",
        "  # print('gdrive/My Drive/Chest/train/NORMAL/'+i)\n",
        "print('Done...')"
      ],
      "execution_count": 0,
      "outputs": [
        {
          "output_type": "stream",
          "text": [
            "Done...\n"
          ],
          "name": "stdout"
        }
      ]
    },
    {
      "cell_type": "code",
      "metadata": {
        "id": "B3SmXIRYXWHt",
        "colab_type": "code",
        "outputId": "44bf73bb-b89c-4199-86d2-cfe93745531f",
        "colab": {
          "base_uri": "https://localhost:8080/",
          "height": 51
        }
      },
      "source": [
        "rescale = 1./255"
      ],
      "execution_count": 0,
      "outputs": [
        {
          "output_type": "stream",
          "text": [
            "Found 640 images belonging to 2 classes.\n",
            "{'NORMAL': 0, 'PNEUMONIA': 1}\n"
          ],
          "name": "stdout"
        }
      ]
    },
    {
      "cell_type": "markdown",
      "metadata": {
        "id": "PJ8CGIisbRG_",
        "colab_type": "text"
      },
      "source": [
        "#### Test to Val transfer"
      ]
    },
    {
      "cell_type": "markdown",
      "metadata": {
        "id": "X2fSlguBbXON",
        "colab_type": "text"
      },
      "source": [
        "##### Normal\n",
        "\n"
      ]
    },
    {
      "cell_type": "code",
      "metadata": {
        "id": "23yF13sZXfRI",
        "colab_type": "code",
        "outputId": "b9b28703-599b-4b5a-8eac-2d8e925af639",
        "colab": {
          "base_uri": "https://localhost:8080/",
          "height": 34
        }
      },
      "source": [
        "cd '/content/gdrive/My Drive/Chest/test/NORMAL'"
      ],
      "execution_count": 0,
      "outputs": [
        {
          "output_type": "stream",
          "text": [
            "/content/gdrive/My Drive/Chest/test/NORMAL\n"
          ],
          "name": "stdout"
        }
      ]
    },
    {
      "cell_type": "code",
      "metadata": {
        "id": "NMBZ0anAXqwP",
        "colab_type": "code",
        "colab": {}
      },
      "source": [
        "import glob\n",
        "names= glob.glob(\"*.jpeg\")"
      ],
      "execution_count": 0,
      "outputs": []
    },
    {
      "cell_type": "code",
      "metadata": {
        "id": "_Bq_S6n3Xxdf",
        "colab_type": "code",
        "outputId": "b666d806-6fab-4279-9e90-2057ae4bd68f",
        "colab": {
          "base_uri": "https://localhost:8080/",
          "height": 34
        }
      },
      "source": [
        "len(names)"
      ],
      "execution_count": 0,
      "outputs": [
        {
          "output_type": "execute_result",
          "data": {
            "text/plain": [
              "242"
            ]
          },
          "metadata": {
            "tags": []
          },
          "execution_count": 77
        }
      ]
    },
    {
      "cell_type": "code",
      "metadata": {
        "id": "bBH21ojkYrq_",
        "colab_type": "code",
        "colab": {}
      },
      "source": [
        "import random\n",
        "random.shuffle(names)"
      ],
      "execution_count": 0,
      "outputs": []
    },
    {
      "cell_type": "code",
      "metadata": {
        "id": "Xd0VbRbKYron",
        "colab_type": "code",
        "outputId": "32beaec4-fe55-4e45-aebd-b2debfec2fd6",
        "colab": {
          "base_uri": "https://localhost:8080/",
          "height": 34
        }
      },
      "source": [
        "len(names)"
      ],
      "execution_count": 0,
      "outputs": [
        {
          "output_type": "execute_result",
          "data": {
            "text/plain": [
              "242"
            ]
          },
          "metadata": {
            "tags": []
          },
          "execution_count": 79
        }
      ]
    },
    {
      "cell_type": "code",
      "metadata": {
        "id": "lONqYkwsZsPK",
        "colab_type": "code",
        "colab": {}
      },
      "source": [
        "f = names[0:121]"
      ],
      "execution_count": 0,
      "outputs": []
    },
    {
      "cell_type": "code",
      "metadata": {
        "id": "FwtGTIKfaGOS",
        "colab_type": "code",
        "outputId": "ea719d58-e165-45f7-8dc9-b45b223e10e4",
        "colab": {
          "base_uri": "https://localhost:8080/",
          "height": 34
        }
      },
      "source": [
        "len(f)"
      ],
      "execution_count": 0,
      "outputs": [
        {
          "output_type": "execute_result",
          "data": {
            "text/plain": [
              "121"
            ]
          },
          "metadata": {
            "tags": []
          },
          "execution_count": 98
        }
      ]
    },
    {
      "cell_type": "code",
      "metadata": {
        "id": "hu_8LtqYZsJ2",
        "colab_type": "code",
        "colab": {}
      },
      "source": [
        "l = names[121::]"
      ],
      "execution_count": 0,
      "outputs": []
    },
    {
      "cell_type": "code",
      "metadata": {
        "id": "1I2MVnwsaJ2c",
        "colab_type": "code",
        "outputId": "0c5eae46-454e-4034-a4a4-20e2b32c71af",
        "colab": {
          "base_uri": "https://localhost:8080/",
          "height": 34
        }
      },
      "source": [
        "len(l)"
      ],
      "execution_count": 0,
      "outputs": [
        {
          "output_type": "execute_result",
          "data": {
            "text/plain": [
              "121"
            ]
          },
          "metadata": {
            "tags": []
          },
          "execution_count": 104
        }
      ]
    },
    {
      "cell_type": "code",
      "metadata": {
        "id": "-G9qb-7nbEMc",
        "colab_type": "code",
        "outputId": "5457dd38-4aec-4a03-e200-4959d29eb310",
        "colab": {
          "base_uri": "https://localhost:8080/",
          "height": 34
        }
      },
      "source": [
        "cd .."
      ],
      "execution_count": 0,
      "outputs": [
        {
          "output_type": "stream",
          "text": [
            "/content\n"
          ],
          "name": "stdout"
        }
      ]
    },
    {
      "cell_type": "code",
      "metadata": {
        "id": "qt1cHlC-aJ0s",
        "colab_type": "code",
        "outputId": "44d09398-06b4-4fdf-f11c-9c353cd251ab",
        "colab": {
          "base_uri": "https://localhost:8080/",
          "height": 34
        }
      },
      "source": [
        "import shutil\n",
        "for i in f:\n",
        "  shutil.move('gdrive/My Drive/Chest/test/NORMAL/'+i, 'gdrive/My Drive/Chest/val/NORMAL/')\n",
        "  # print('gdrive/My Drive/Chest/train/NORMAL/'+i)\n",
        "print('Done...')"
      ],
      "execution_count": 0,
      "outputs": [
        {
          "output_type": "stream",
          "text": [
            "Done...\n"
          ],
          "name": "stdout"
        }
      ]
    },
    {
      "cell_type": "markdown",
      "metadata": {
        "id": "4wBL2_VabdzE",
        "colab_type": "text"
      },
      "source": [
        "###### Pneumonia"
      ]
    },
    {
      "cell_type": "code",
      "metadata": {
        "id": "oFVFMOXqX8sE",
        "colab_type": "code",
        "outputId": "b243b6c0-d96b-4f5e-efc7-87b1470922a8",
        "colab": {
          "base_uri": "https://localhost:8080/",
          "height": 34
        }
      },
      "source": [
        "cd '/content/gdrive/My Drive/Chest/test/PNEUMONIA'"
      ],
      "execution_count": 0,
      "outputs": [
        {
          "output_type": "stream",
          "text": [
            "/content/gdrive/My Drive/Chest/test/PNEUMONIA\n"
          ],
          "name": "stdout"
        }
      ]
    },
    {
      "cell_type": "code",
      "metadata": {
        "id": "X8kLOq-cYD_z",
        "colab_type": "code",
        "colab": {}
      },
      "source": [
        "import glob\n",
        "image= glob.glob(\"*.jpeg\")"
      ],
      "execution_count": 0,
      "outputs": []
    },
    {
      "cell_type": "code",
      "metadata": {
        "id": "2Yjf_m4vb2aV",
        "colab_type": "code",
        "outputId": "494c0049-001b-4a61-fbc2-9dd7abde197f",
        "colab": {
          "base_uri": "https://localhost:8080/",
          "height": 34
        }
      },
      "source": [
        "len(image)"
      ],
      "execution_count": 0,
      "outputs": [
        {
          "output_type": "execute_result",
          "data": {
            "text/plain": [
              "398"
            ]
          },
          "metadata": {
            "tags": []
          },
          "execution_count": 117
        }
      ]
    },
    {
      "cell_type": "code",
      "metadata": {
        "id": "C1Gp1ZTLYGK0",
        "colab_type": "code",
        "outputId": "0cacb79d-bdc2-4c27-a4b2-898367cd5058",
        "colab": {
          "base_uri": "https://localhost:8080/",
          "height": 34
        }
      },
      "source": [
        "image[0]"
      ],
      "execution_count": 0,
      "outputs": [
        {
          "output_type": "execute_result",
          "data": {
            "text/plain": [
              "'person1946_bacteria_4875.jpeg'"
            ]
          },
          "metadata": {
            "tags": []
          },
          "execution_count": 116
        }
      ]
    },
    {
      "cell_type": "code",
      "metadata": {
        "id": "XeM_xT7gYJMD",
        "colab_type": "code",
        "colab": {}
      },
      "source": [
        "random.shuffle(image)"
      ],
      "execution_count": 0,
      "outputs": []
    },
    {
      "cell_type": "code",
      "metadata": {
        "id": "Fp1JO86pb5Y7",
        "colab_type": "code",
        "outputId": "3f229542-16e3-4897-f8a7-be19eab0be5d",
        "colab": {
          "base_uri": "https://localhost:8080/",
          "height": 34
        }
      },
      "source": [
        "image[0]"
      ],
      "execution_count": 0,
      "outputs": [
        {
          "output_type": "execute_result",
          "data": {
            "text/plain": [
              "'person1633_virus_2829.jpeg'"
            ]
          },
          "metadata": {
            "tags": []
          },
          "execution_count": 119
        }
      ]
    },
    {
      "cell_type": "code",
      "metadata": {
        "id": "_P3T64CMb7Iw",
        "colab_type": "code",
        "outputId": "04241569-9848-4e2f-c4a9-f1d85fdcad0f",
        "colab": {
          "base_uri": "https://localhost:8080/",
          "height": 34
        }
      },
      "source": [
        "len(image)"
      ],
      "execution_count": 0,
      "outputs": [
        {
          "output_type": "execute_result",
          "data": {
            "text/plain": [
              "398"
            ]
          },
          "metadata": {
            "tags": []
          },
          "execution_count": 120
        }
      ]
    },
    {
      "cell_type": "code",
      "metadata": {
        "id": "l7ZRQQuAb8-Z",
        "colab_type": "code",
        "colab": {}
      },
      "source": [
        "f = image[0:199]"
      ],
      "execution_count": 0,
      "outputs": []
    },
    {
      "cell_type": "code",
      "metadata": {
        "id": "89wZiJ8ncEhC",
        "colab_type": "code",
        "outputId": "b2b195f3-67bc-45f4-d0ff-cebe57c2047b",
        "colab": {
          "base_uri": "https://localhost:8080/",
          "height": 34
        }
      },
      "source": [
        "len(f)"
      ],
      "execution_count": 0,
      "outputs": [
        {
          "output_type": "execute_result",
          "data": {
            "text/plain": [
              "199"
            ]
          },
          "metadata": {
            "tags": []
          },
          "execution_count": 122
        }
      ]
    },
    {
      "cell_type": "code",
      "metadata": {
        "id": "1AdqqaLlcGNb",
        "colab_type": "code",
        "outputId": "86115878-e54e-4220-dbdb-31655740669e",
        "colab": {
          "base_uri": "https://localhost:8080/",
          "height": 34
        }
      },
      "source": [
        "l = image[199::]\n",
        "len(l)"
      ],
      "execution_count": 0,
      "outputs": [
        {
          "output_type": "execute_result",
          "data": {
            "text/plain": [
              "199"
            ]
          },
          "metadata": {
            "tags": []
          },
          "execution_count": 123
        }
      ]
    },
    {
      "cell_type": "code",
      "metadata": {
        "id": "vfGV4PQVcL8o",
        "colab_type": "code",
        "outputId": "f6b8c4cf-3b6a-464f-bab6-95ce646ca5c7",
        "colab": {
          "base_uri": "https://localhost:8080/",
          "height": 34
        }
      },
      "source": [
        "cd .."
      ],
      "execution_count": 0,
      "outputs": [
        {
          "output_type": "stream",
          "text": [
            "/content\n"
          ],
          "name": "stdout"
        }
      ]
    },
    {
      "cell_type": "code",
      "metadata": {
        "id": "sJXKVfWwcYdJ",
        "colab_type": "code",
        "outputId": "51bbb6fb-cebc-4094-f02b-c086bf17f6a5",
        "colab": {
          "base_uri": "https://localhost:8080/",
          "height": 34
        }
      },
      "source": [
        "import shutil\n",
        "for i in f:\n",
        "  shutil.move('gdrive/My Drive/Chest/test/PNEUMONIA/'+i, 'gdrive/My Drive/Chest/val/PNEUMONIA/')\n",
        "  # print('gdrive/My Drive/Chest/train/NORMAL/'+i)\n",
        "print('Done...')"
      ],
      "execution_count": 0,
      "outputs": [
        {
          "output_type": "stream",
          "text": [
            "Done...\n"
          ],
          "name": "stdout"
        }
      ]
    },
    {
      "cell_type": "code",
      "metadata": {
        "id": "jIYWLtLLcvbZ",
        "colab_type": "code",
        "colab": {}
      },
      "source": [
        ""
      ],
      "execution_count": 0,
      "outputs": []
    }
  ]
}